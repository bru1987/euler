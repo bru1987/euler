{
 "cells": [
  {
   "cell_type": "markdown",
   "metadata": {},
   "source": [
    "## Problem #1"
   ]
  },
  {
   "cell_type": "markdown",
   "metadata": {},
   "source": [
    "If we list all the natural numbers below 10 that are multiples of 3 or 5, we get 3, 5, 6 and 9. The sum of these multiples is 23.\n",
    "\n",
    "Find the sum of all the multiples of 3 or 5 below 1000."
   ]
  },
  {
   "cell_type": "markdown",
   "metadata": {},
   "source": [
    "### Solution #1"
   ]
  },
  {
   "cell_type": "markdown",
   "metadata": {},
   "source": [
    "This is the brute force method. On the solution below, a counter is initiated from 1 up until 1000. Whenever i is a multiple of 3 or 5 (something that can be easily cheked with the modulus operator `%`), the variable `sum` (initiated in zero) will be incremented of `i`. The flowchart can be found [here](https://drive.google.com/file/d/1w72SewUXMZ-fArXdZ6vG1b1EZ8qTqmu7/view?usp=sharing)."
   ]
  },
  {
   "cell_type": "code",
   "execution_count": 6,
   "metadata": {},
   "outputs": [
    {
     "name": "stdout",
     "output_type": "stream",
     "text": [
      "233168 Elapsed time:  0.00014400482177734375 s\n"
     ]
    }
   ],
   "source": [
    "import time\n",
    "\n",
    "def solution_1 (n): # In this case n = 1000\n",
    "    start = time.time()\n",
    "\n",
    "    sum = 0\n",
    "\n",
    "    for i in range (1,n):\n",
    "        if (i % 3 == 0 or i % 5 == 0):\n",
    "        #if the number is divisible by 3 or 5 \n",
    "        #we add it to the variable sum\n",
    "            sum += i\n",
    "\n",
    "    elapsed = time.time() - start\n",
    "    print (sum, \"Elapsed time: \", elapsed, \"s\")\n",
    "\n",
    "    return\n",
    "\n",
    "solution_1(1000)"
   ]
  },
  {
   "cell_type": "markdown",
   "metadata": {},
   "source": [
    "### Solution #2"
   ]
  },
  {
   "cell_type": "markdown",
   "metadata": {},
   "source": [
    "A different approach would be to create three number lists: one with all multiples of 3, another with multiples of 5 and finally a list with multiples of 15 (3 times 5). We'll add the items of the first two lists and subtract the third list. To implement this solution, we will need to use `numpy`."
   ]
  },
  {
   "cell_type": "code",
   "execution_count": 5,
   "metadata": {},
   "outputs": [
    {
     "name": "stdout",
     "output_type": "stream",
     "text": [
      "233168 Elapsed time:  0.0001010894775390625 s\n"
     ]
    }
   ],
   "source": [
    "import time\n",
    "import numpy as np #importing numpy\n",
    "\n",
    "def solution_2 (n): # In this case n = 1000\n",
    "\n",
    "    start = time.time()\n",
    "\n",
    "    sum = 0\n",
    "\n",
    "    multiples_of_3 = np.arange(3, n, 3)\n",
    "    multiples_of_5 = np.arange(5, n, 5)\n",
    "    multiples_of_15 = np.arange(15, n, 15)\n",
    "\n",
    "    sum = np.sum(multiples_of_3) + np.sum(multiples_of_5) - np.sum(multiples_of_15)\n",
    "\n",
    "    elapsed = time.time() - start\n",
    "   \n",
    "    print (sum, \"Elapsed time: \", elapsed, \"s\")\n",
    "    \n",
    "    return\n",
    "\n",
    "solution_2(1000)"
   ]
  },
  {
   "cell_type": "markdown",
   "metadata": {},
   "source": [
    "By quickly evaluating the two, you may think that there are no improvements on the methods described. Let's check if that is the case."
   ]
  },
  {
   "cell_type": "markdown",
   "metadata": {},
   "source": [
    "### Comparison of the methods"
   ]
  },
  {
   "cell_type": "markdown",
   "metadata": {
    "collapsed": true
   },
   "source": [
    "To really evaluate and show that one solution is much better than the other, let's do the same calculations but with a much higher number, like 5000000."
   ]
  },
  {
   "cell_type": "code",
   "execution_count": 6,
   "metadata": {},
   "outputs": [
    {
     "name": "stdout",
     "output_type": "stream",
     "text": [
      "5833329166668 Elapsed time:  0.7977828979492188 s\n",
      "5833329166668 Elapsed time:  0.010927200317382812 s\n"
     ]
    }
   ],
   "source": [
    "solution_1(5000000)\n",
    "solution_2(5000000)"
   ]
  },
  {
   "cell_type": "markdown",
   "metadata": {
    "collapsed": true
   },
   "source": [
    "It's clear that solution_2 performs better."
   ]
  }
 ],
 "metadata": {
  "kernelspec": {
   "display_name": "Python 3",
   "language": "python",
   "name": "python3"
  },
  "language_info": {
   "codemirror_mode": {
    "name": "ipython",
    "version": 3
   },
   "file_extension": ".py",
   "mimetype": "text/x-python",
   "name": "python",
   "nbconvert_exporter": "python",
   "pygments_lexer": "ipython3",
   "version": "3.6.1"
  }
 },
 "nbformat": 4,
 "nbformat_minor": 2
}
