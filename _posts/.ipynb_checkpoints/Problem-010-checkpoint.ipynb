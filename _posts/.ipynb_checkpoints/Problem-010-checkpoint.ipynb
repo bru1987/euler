{
 "cells": [
  {
   "cell_type": "markdown",
   "metadata": {},
   "source": [
    "---\n",
    "layout: post\n",
    "title: Project Euler - Problem 10\n",
    "post-order: 010\n",
    "---"
   ]
  },
  {
   "cell_type": "markdown",
   "metadata": {},
   "source": [
    "Description of the problem"
   ]
  },
  {
   "cell_type": "markdown",
   "metadata": {},
   "source": [
    "### Solution"
   ]
  },
  {
   "cell_type": "markdown",
   "metadata": {},
   "source": [
    "Some explanation here."
   ]
  },
  {
   "cell_type": "code",
   "execution_count": 213,
   "metadata": {},
   "outputs": [],
   "source": [
    "# Function that adds the first n primes\n",
    "def primes_sum(n):\n",
    "    # We'll start with the values 2 and 3 already inserted on the sum\n",
    "    summation = 2\n",
    "    candidate = 3 # current possible prime being analysed\n",
    "    \n",
    "    while (candidate < n):\n",
    "        for divisor in range (2,(round(candidate**0.5)+1)):\n",
    "            if (candidate % divisor == 0):\n",
    "                candidate += 1\n",
    "                break\n",
    "            elif ((candidate % divisor != 0) & (divisor + 1 == (round(candidate**0.5)+1))):\n",
    "                print ('candidate = ',candidate)\n",
    "                summation += candidate\n",
    "                print('summation = ',summation)\n",
    "                candidate += 1\n",
    "                \n",
    "    return summation"
   ]
  },
  {
   "cell_type": "code",
   "execution_count": 214,
   "metadata": {},
   "outputs": [
    {
     "name": "stdout",
     "output_type": "stream",
     "text": [
      "candidate =  3\n",
      "summation =  5\n",
      "candidate =  5\n",
      "summation =  10\n",
      "candidate =  7\n",
      "summation =  17\n"
     ]
    },
    {
     "data": {
      "text/plain": [
       "17"
      ]
     },
     "execution_count": 214,
     "metadata": {},
     "output_type": "execute_result"
    }
   ],
   "source": [
    "primes_sum(10)"
   ]
  },
  {
   "cell_type": "markdown",
   "metadata": {},
   "source": [
    "It seems to be working just fine. Let's tewak it a little bit and test whether runtime will be an issue."
   ]
  },
  {
   "cell_type": "code",
   "execution_count": 215,
   "metadata": {},
   "outputs": [],
   "source": [
    "import time\n",
    "# Function that adds the first n primes\n",
    "def primes_sum(n):\n",
    "    start = time.time()\n",
    "    # We'll start with the values 2 and 3 already inserted on the sum\n",
    "    summation = 2\n",
    "    candidate = 3 # current possible prime being analysed\n",
    "    \n",
    "    while (candidate < n):\n",
    "        for divisor in range (2,(round(candidate**0.5)+1)):\n",
    "            if (candidate % divisor == 0):\n",
    "                candidate += 1\n",
    "                break\n",
    "            elif ((candidate % divisor != 0) & (divisor + 1 == (round(candidate**0.5)+1))):\n",
    "                summation += candidate\n",
    "                candidate += 1\n",
    "\n",
    "    elapsed = time.time() - start\n",
    "    print (\"Elapsed time: \", elapsed, \"s\")\n",
    "    return summation"
   ]
  },
  {
   "cell_type": "code",
   "execution_count": 216,
   "metadata": {},
   "outputs": [
    {
     "name": "stdout",
     "output_type": "stream",
     "text": [
      "Elapsed time:  0.1121058464050293 s\n"
     ]
    },
    {
     "data": {
      "text/plain": [
       "21171191"
      ]
     },
     "execution_count": 216,
     "metadata": {},
     "output_type": "execute_result"
    }
   ],
   "source": [
    "primes_sum(20000) #100 times smaller than the actual number"
   ]
  },
  {
   "cell_type": "markdown",
   "metadata": {},
   "source": [
    "Therefore it will take approximately 100 times that time, which is fine."
   ]
  },
  {
   "cell_type": "code",
   "execution_count": 217,
   "metadata": {},
   "outputs": [
    {
     "name": "stdout",
     "output_type": "stream",
     "text": [
      "Elapsed time:  65.05433702468872 s\n"
     ]
    },
    {
     "data": {
      "text/plain": [
       "142913828922"
      ]
     },
     "execution_count": 217,
     "metadata": {},
     "output_type": "execute_result"
    }
   ],
   "source": [
    "primes_sum(2000000)"
   ]
  },
  {
   "cell_type": "markdown",
   "metadata": {},
   "source": [
    "It took a minute. Not bad"
   ]
  }
 ],
 "metadata": {
  "kernelspec": {
   "display_name": "Python 3",
   "language": "python",
   "name": "python3"
  },
  "language_info": {
   "codemirror_mode": {
    "name": "ipython",
    "version": 3
   },
   "file_extension": ".py",
   "mimetype": "text/x-python",
   "name": "python",
   "nbconvert_exporter": "python",
   "pygments_lexer": "ipython3",
   "version": "3.7.6"
  }
 },
 "nbformat": 4,
 "nbformat_minor": 4
}
