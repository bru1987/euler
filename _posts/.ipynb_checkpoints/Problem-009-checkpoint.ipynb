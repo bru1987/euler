{
 "cells": [
  {
   "cell_type": "markdown",
   "metadata": {},
   "source": [
    "---\n",
    "layout: post\n",
    "title: Project Euler - Problem 9\n",
    "post-order: 009\n",
    "---"
   ]
  },
  {
   "cell_type": "markdown",
   "metadata": {},
   "source": [
    "The first thing to do is to develop an algorithm that XXX. We'll test it out by producing the first 5 pythagorean triples, being $n$ the number of pythagorean triples produced."
   ]
  },
  {
   "cell_type": "code",
   "execution_count": null,
   "metadata": {},
   "outputs": [],
   "source": [
    "n = 5 # number of triples shown"
   ]
  },
  {
   "cell_type": "code",
   "execution_count": 1,
   "metadata": {},
   "outputs": [],
   "source": [
    "def first_n_triples(n):\n",
    "    i = 1 # counter of triplets\n",
    "    c = 1 # c^2  = a^2 + b^2\n",
    "    list_of_triples = []\n",
    "\n",
    "    while i <= n:\n",
    "        b = c-1\n",
    "        while b > 1:\n",
    "            a = b-1\n",
    "            while a > 1:\n",
    "                if (c**2 == a**2 + b**2):\n",
    "                    list_of_triples.append([c, b, a])\n",
    "                    i += 1\n",
    "                a -= 1\n",
    "            b -= 1\n",
    "        c += 1    \n",
    "    return list_of_triples"
   ]
  },
  {
   "cell_type": "code",
   "execution_count": 2,
   "metadata": {},
   "outputs": [
    {
     "data": {
      "text/plain": [
       "[[5, 4, 3], [10, 8, 6], [13, 12, 5], [15, 12, 9], [17, 15, 8]]"
      ]
     },
     "execution_count": 2,
     "metadata": {},
     "output_type": "execute_result"
    }
   ],
   "source": [
    "first_n_triples(n)"
   ]
  },
  {
   "cell_type": "markdown",
   "metadata": {},
   "source": [
    "It may be the case that the algorithm shows more than the number asked. That may happen because when the largest number $c$ is being increased one by one, in each iteration where a triple is found, the algorithm shows all possible triples with that specific value of $c$. For example: if we want the first five triples, we get the result shown above, whereas for $n=7$ we actually get 8 triples (note that for the last two, $c$ is equal to $25$)."
   ]
  },
  {
   "cell_type": "code",
   "execution_count": 6,
   "metadata": {},
   "outputs": [
    {
     "data": {
      "text/plain": [
       "[[5, 4, 3],\n",
       " [10, 8, 6],\n",
       " [13, 12, 5],\n",
       " [15, 12, 9],\n",
       " [17, 15, 8],\n",
       " [20, 16, 12],\n",
       " [25, 24, 7],\n",
       " [25, 20, 15]]"
      ]
     },
     "execution_count": 6,
     "metadata": {},
     "output_type": "execute_result"
    }
   ],
   "source": [
    "first_n_triples(7)"
   ]
  },
  {
   "cell_type": "markdown",
   "metadata": {},
   "source": [
    "But that won't be a problem to our algorithm/solution."
   ]
  },
  {
   "cell_type": "markdown",
   "metadata": {},
   "source": [
    "Let's now get the first 500 triples:"
   ]
  },
  {
   "cell_type": "code",
   "execution_count": 235,
   "metadata": {},
   "outputs": [],
   "source": [
    "list = first_n_triples(n)"
   ]
  },
  {
   "cell_type": "markdown",
   "metadata": {},
   "source": [
    "Here are the first 5 triples..."
   ]
  },
  {
   "cell_type": "code",
   "execution_count": 236,
   "metadata": {},
   "outputs": [
    {
     "data": {
      "text/plain": [
       "[[5, 4, 3], [10, 8, 6], [13, 12, 5], [15, 12, 9], [17, 15, 8]]"
      ]
     },
     "execution_count": 236,
     "metadata": {},
     "output_type": "execute_result"
    }
   ],
   "source": [
    "list[0:5]"
   ]
  },
  {
   "cell_type": "markdown",
   "metadata": {},
   "source": [
    "and the last five in order to not make this post so looooong. We can verify by the last triples found that the triple whose sum adds up to 1000 is in the middle of our setXXX."
   ]
  },
  {
   "cell_type": "code",
   "execution_count": 237,
   "metadata": {},
   "outputs": [
    {
     "data": {
      "text/plain": [
       "[[615, 600, 135],\n",
       " [615, 561, 252],\n",
       " [615, 492, 369],\n",
       " [615, 468, 399],\n",
       " [617, 608, 105]]"
      ]
     },
     "execution_count": 237,
     "metadata": {},
     "output_type": "execute_result"
    }
   ],
   "source": [
    "list[n-5:n]"
   ]
  },
  {
   "cell_type": "markdown",
   "metadata": {},
   "source": [
    "One of these triples has a sum equal to 1000. Let's find it. We'll run through each XXsublistXX until we find one that gives us a sum which is 1000. After that, We'll show it. On a later step, we'll calculate their product."
   ]
  },
  {
   "cell_type": "code",
   "execution_count": 241,
   "metadata": {},
   "outputs": [
    {
     "name": "stdout",
     "output_type": "stream",
     "text": [
      "[13, 12, 5]\n"
     ]
    }
   ],
   "source": [
    "sum = 30\n",
    "i = 1\n",
    "\n",
    "while i < n:\n",
    "    if (list[i][0]+list[i][1]+list[i][2]) == sum:\n",
    "        print(list[i])\n",
    "        break\n",
    "    i += 1"
   ]
  },
  {
   "cell_type": "code",
   "execution_count": 242,
   "metadata": {},
   "outputs": [
    {
     "data": {
      "text/plain": [
       "780"
      ]
     },
     "execution_count": 242,
     "metadata": {},
     "output_type": "execute_result"
    }
   ],
   "source": [
    "list[i][0]*list[i][1]*list[i][2]"
   ]
  },
  {
   "cell_type": "code",
   "execution_count": 243,
   "metadata": {},
   "outputs": [
    {
     "name": "stdout",
     "output_type": "stream",
     "text": [
      "[425, 375, 200]\n"
     ]
    }
   ],
   "source": [
    "sum = 1000\n",
    "i = 1\n",
    "\n",
    "while i < n:\n",
    "    if (list[i][0]+list[i][1]+list[i][2]) == sum:\n",
    "        print(list[i])\n",
    "        break\n",
    "    i += 1"
   ]
  },
  {
   "cell_type": "code",
   "execution_count": 244,
   "metadata": {},
   "outputs": [
    {
     "data": {
      "text/plain": [
       "31875000"
      ]
     },
     "execution_count": 244,
     "metadata": {},
     "output_type": "execute_result"
    }
   ],
   "source": [
    "list[i][0]*list[i][1]*list[i][2]"
   ]
  },
  {
   "cell_type": "markdown",
   "metadata": {},
   "source": [
    "As usual, my algorithm took ages to run. I am not good with optimizing run time."
   ]
  }
 ],
 "metadata": {
  "kernelspec": {
   "display_name": "Python 3",
   "language": "python",
   "name": "python3"
  },
  "language_info": {
   "codemirror_mode": {
    "name": "ipython",
    "version": 3
   },
   "file_extension": ".py",
   "mimetype": "text/x-python",
   "name": "python",
   "nbconvert_exporter": "python",
   "pygments_lexer": "ipython3",
   "version": "3.7.6"
  }
 },
 "nbformat": 4,
 "nbformat_minor": 4
}
