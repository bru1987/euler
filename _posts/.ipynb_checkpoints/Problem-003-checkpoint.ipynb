{
 "cells": [
  {
   "cell_type": "markdown",
   "metadata": {},
   "source": [
    "---\n",
    "layout: post\n",
    "title: Project Euler - Problem 3\n",
    "post-order: 003\n",
    "---"
   ]
  },
  {
   "cell_type": "markdown",
   "metadata": {},
   "source": [
    "The prime factors of 13195 are 5, 7, 13 and 29. What is the largest prime factor of the number 600851475143?"
   ]
  },
  {
   "cell_type": "markdown",
   "metadata": {},
   "source": [
    "### Solution #1"
   ]
  },
  {
   "cell_type": "markdown",
   "metadata": {},
   "source": [
    "We can use the following algorithm to build a list with all divisors of `n`:"
   ]
  },
  {
   "cell_type": "code",
   "execution_count": 4,
   "metadata": {},
   "outputs": [
    {
     "name": "stdout",
     "output_type": "stream",
     "text": [
      "[1, 5, 19, 95] \n",
      " 0.10687780380249023\n"
     ]
    }
   ],
   "source": [
    "import time\n",
    "\n",
    "def divisors_1(n):\n",
    "\n",
    "    start = time.time()\n",
    "\n",
    "    # The number 1, obviously, will always be a divisor, so let's\n",
    "    # initiate the list with it\n",
    "    divisors = [1]\n",
    "\n",
    "    for i in range (2,n+1): # Começando com o 2 já que obviamente todos são divisíveis por 1\n",
    "        if n % i == 0:\n",
    "            divisors.append(i)\n",
    "\n",
    "    elapsed = time.time() - start\n",
    "    \n",
    "    return divisors\n",
    "\n",
    "# Let´s test if the algorithm is working properly\n",
    "divisors = divisors_1(95)\n",
    "print (divisors,\"\\n\", elapsed)"
   ]
  },
  {
   "cell_type": "markdown",
   "metadata": {},
   "source": [
    "Ok, it's all good. Now let's build a short code that evaluates all prime numbers from 1 to `n`:"
   ]
  },
  {
   "cell_type": "code",
   "execution_count": 6,
   "metadata": {},
   "outputs": [
    {
     "name": "stdout",
     "output_type": "stream",
     "text": [
      "[1, 2, 4, 5, 7, 11, 13, 17, 19, 23, 29, 31, 37, 41, 43, 47, 53, 59, 61, 67, 71, 73, 79, 83, 89] \n",
      " 0.10687780380249023\n"
     ]
    }
   ],
   "source": [
    "import time\n",
    "\n",
    "def primes_1(n):\n",
    "\n",
    "    start = time.time()\n",
    "\n",
    "    # The number 1 is a prime number. Therefore, we shall start the list with it.\n",
    "    primes = [1,2]\n",
    "\n",
    "    for candidate_for_prime in range (3,n+1):\n",
    "        # Let's evaluate all primes up till n\n",
    "        # since all primes are odd, we can save some computing time\n",
    "        # by using 2 as step and starting with 3\n",
    "        \n",
    "        for i in range (3,candidate_for_prime): \n",
    "            if (candidate_for_prime % i == 0):\n",
    "                break\n",
    "            elif ((candidate_for_prime % i != 0) & (i + 1 == candidate_for_prime)):\n",
    "                primes.append(candidate_for_prime)\n",
    "\n",
    "    elapsed = time.time() - start\n",
    "\n",
    "    #print (primes,\"\\n\", elapsed)\n",
    "    \n",
    "    return primes\n",
    "\n",
    "primes = primes_1(95)\n",
    "print (primes,\"\\n\", elapsed)"
   ]
  },
  {
   "cell_type": "markdown",
   "metadata": {},
   "source": [
    "We now have built two important blocks of code. Let's do a little test to find the intersection of the two sets above:"
   ]
  },
  {
   "cell_type": "code",
   "execution_count": 7,
   "metadata": {},
   "outputs": [
    {
     "data": {
      "text/plain": [
       "{1, 5, 19}"
      ]
     },
     "execution_count": 7,
     "metadata": {},
     "output_type": "execute_result"
    }
   ],
   "source": [
    "set(divisors).intersection(primes)"
   ]
  },
  {
   "cell_type": "markdown",
   "metadata": {},
   "source": [
    "It all looks very nice and perfect, until you realise that 600851475143 is a huge number - it looks like you are dialing a phone number in South Africa. We need to deal with it. Are we really going to have a problem with this huge number? Let's test it with a pretty-big-but-not-huge number:"
   ]
  },
  {
   "cell_type": "code",
   "execution_count": 8,
   "metadata": {},
   "outputs": [
    {
     "name": "stdout",
     "output_type": "stream",
     "text": [
      "{1, 5, 11, 19, 31}\n",
      "14.906361103057861\n"
     ]
    }
   ],
   "source": [
    "import time\n",
    "\n",
    "start = time.time()\n",
    "\n",
    "divisors = divisors_1(32395)\n",
    "primes = primes_1(32395)\n",
    "\n",
    "print (set(divisors).intersection(primes))\n",
    "\n",
    "elapsed = time.time() - start\n",
    "\n",
    "print (elapsed)"
   ]
  },
  {
   "cell_type": "markdown",
   "metadata": {},
   "source": [
    "Yes we will have an issue with this."
   ]
  },
  {
   "cell_type": "markdown",
   "metadata": {},
   "source": [
    "### Solution #2 - Trial Division algorithm"
   ]
  },
  {
   "cell_type": "markdown",
   "metadata": {},
   "source": [
    "Trial division is the [simplest algorithm](http://connellybarnes.com/documents/factoring.pdf) for factoring an integer. Assume that $a$ and $b$ are nontrivial factors of $n$ such that $ab = n$ and $a \\leq b$. To perform the trial division algorithm, one simply checks wether $\\frac{a}{n}$ for $a = 2, 3, \\cdots, \\sqrt{n}$. \n",
    "\n",
    "When such a divisor $a$ is found, then $b = \\frac{n}{a}$ is also a factor. After going through all possible integers, factorization has been found for $n$. The following procedure is valid due to the following theorem.\n",
    "\n",
    "**Theorem** If $n$ has nontrivial factors $a$ and $b$ with $ab = n$ and $a \\leq b$ then $a \\leq \\sqrt{n}$\n",
    "\n",
    "**Proof** Assume $a > \\sqrt{n}$. Then $b \\leq a < \\sqrt{n}$ and $ab > n$. That contradicts the assumption that $ab = n$. Hence $a \\leq \\sqrt{n}$."
   ]
  },
  {
   "cell_type": "code",
   "execution_count": 9,
   "metadata": {},
   "outputs": [
    {
     "name": "stdout",
     "output_type": "stream",
     "text": [
      "[71, 839, 1471, 6857, 59569, 104441, 486847, 1234169, 5753023, 10086647, 87625999, 408464633, 716151937, 8462696833]\n"
     ]
    }
   ],
   "source": [
    "from math import sqrt\n",
    "import time\n",
    "\n",
    "def trial_division(n):\n",
    "    factors = []\n",
    "    for i in range (2,int(sqrt(n))):\n",
    "        if n % i == 0:\n",
    "            factors.append(i)\n",
    "            factors.append(int(n/i))\n",
    "    return factors\n",
    "\n",
    "start = time.time()\n",
    "\n",
    "factors = trial_division(600851475143)\n",
    "factors.sort()\n",
    "print (factors)\n",
    "              \n",
    "elapsed = time.time() - start"
   ]
  },
  {
   "cell_type": "markdown",
   "metadata": {},
   "source": [
    "We still need to check if they are primes. If they are divisible by each other, they must be eliminated."
   ]
  },
  {
   "cell_type": "code",
   "execution_count": 10,
   "metadata": {},
   "outputs": [
    {
     "name": "stdout",
     "output_type": "stream",
     "text": [
      "[71, 839, 1471, 6857]\n"
     ]
    }
   ],
   "source": [
    "from math import sqrt\n",
    "import time\n",
    "\n",
    "def trial_division_primes(n):\n",
    "    factors = []\n",
    "    for i in range (2,int(sqrt(n))):\n",
    "        if n % i == 0:\n",
    "            factors.append(i)\n",
    "            factors.append(int(n/i))\n",
    "    \n",
    "    # We need to sort it, otherwise the algorithm won't work\n",
    "    factors.sort()        \n",
    "    prime_factors = factors\n",
    "    to_remove = []\n",
    "    \n",
    "    for i in range (len(factors)-1,0,-1):\n",
    "        a = i-1\n",
    "        for ii in range (a,-1,-1):\n",
    "            if prime_factors[i] % prime_factors[ii] == 0:\n",
    "                to_remove.append(prime_factors[i])\n",
    "            a = a - 1\n",
    "    \n",
    "    prime_factors = list(set(set(prime_factors) - set(to_remove)))\n",
    "\n",
    "    return prime_factors\n",
    "\n",
    "start = time.time()\n",
    "\n",
    "prime_factors = trial_division_primes(600851475143)\n",
    "prime_factors.sort()\n",
    "print (prime_factors)\n",
    "              \n",
    "elapsed = time.time() - start"
   ]
  },
  {
   "cell_type": "markdown",
   "metadata": {},
   "source": [
    "Mic drop."
   ]
  }
 ],
 "metadata": {
  "kernelspec": {
   "display_name": "Python 3",
   "language": "python",
   "name": "python3"
  },
  "language_info": {
   "codemirror_mode": {
    "name": "ipython",
    "version": 3
   },
   "file_extension": ".py",
   "mimetype": "text/x-python",
   "name": "python",
   "nbconvert_exporter": "python",
   "pygments_lexer": "ipython3",
   "version": "3.7.6"
  }
 },
 "nbformat": 4,
 "nbformat_minor": 4
}
