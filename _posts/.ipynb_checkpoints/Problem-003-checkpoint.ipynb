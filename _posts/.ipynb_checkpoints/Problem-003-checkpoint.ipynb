{
 "cells": [
  {
   "cell_type": "markdown",
   "metadata": {
    "collapsed": true
   },
   "source": [
    "## Problem #3"
   ]
  },
  {
   "cell_type": "markdown",
   "metadata": {},
   "source": [
    "The prime factors of 13195 are 5, 7, 13 and 29. What is the largest prime factor of the number 600851475143?"
   ]
  },
  {
   "cell_type": "markdown",
   "metadata": {},
   "source": [
    "### Solution #1"
   ]
  },
  {
   "cell_type": "markdown",
   "metadata": {},
   "source": [
    "We can use the following algorithm to build a list with all divisors of `n`:"
   ]
  },
  {
   "cell_type": "code",
   "execution_count": 56,
   "metadata": {},
   "outputs": [
    {
     "name": "stdout",
     "output_type": "stream",
     "text": [
      "[1, 5, 19, 95] \n",
      " 9.059906005859375e-06\n"
     ]
    }
   ],
   "source": [
    "import time\n",
    "\n",
    "def divisors_1(n):\n",
    "\n",
    "    start = time.time()\n",
    "\n",
    "    # The number 1, obviously, will always be a divisor, so let's\n",
    "    # initiate the list with it\n",
    "    divisors = [1]\n",
    "\n",
    "    for i in range (2,n+1): # Começando com o 2 já que obviamente todos são divisíveis por 1\n",
    "        if n % i == 0:\n",
    "            divisors.append(i)\n",
    "\n",
    "    elapsed = time.time() - start\n",
    "\n",
    "    print (divisors,\"\\n\", elapsed)\n",
    "    \n",
    "    return divisors\n",
    "\n",
    "# Let´s test if the algorithm is working properly\n",
    "divisors = divisors_1(95)"
   ]
  },
  {
   "cell_type": "markdown",
   "metadata": {},
   "source": [
    "Ok, it's all good. Now let's build a short code that evaluates all prime numbers from 1 to `n`:"
   ]
  },
  {
   "cell_type": "code",
   "execution_count": 57,
   "metadata": {},
   "outputs": [
    {
     "name": "stdout",
     "output_type": "stream",
     "text": [
      "[1, 2, 4, 5, 7, 11, 13, 17, 19, 23, 29, 31, 37, 41, 43, 47, 53, 59, 61, 67, 71, 73, 79, 83, 89] \n",
      " 0.0002231597900390625\n"
     ]
    }
   ],
   "source": [
    "import time\n",
    "\n",
    "def primes_1(n):\n",
    "\n",
    "    start = time.time()\n",
    "\n",
    "    # The number 1 is a prime number. Therefore, we shall start the list with it.\n",
    "    primes = [1,2]\n",
    "\n",
    "    for candidate_for_prime in range (3,n+1):\n",
    "        # Let's evaluate all primes up till n\n",
    "        # since all primes are odd, we can save some computing time\n",
    "        # by using 2 as step and starting with 3\n",
    "        \n",
    "        for i in range (3,candidate_for_prime): \n",
    "            if (candidate_for_prime % i == 0):\n",
    "                break\n",
    "            elif ((candidate_for_prime % i != 0) & (i + 1 == candidate_for_prime)):\n",
    "                primes.append(candidate_for_prime)\n",
    "\n",
    "    elapsed = time.time() - start\n",
    "\n",
    "    print (primes,\"\\n\", elapsed)\n",
    "    \n",
    "    return primes\n",
    "\n",
    "primes = primes_1(95)"
   ]
  },
  {
   "cell_type": "markdown",
   "metadata": {
    "collapsed": true
   },
   "source": [
    "We now have built two important blocks of code. Porém, vamos primeiramente fazer um teste com o número acima, encontrando a intersecção dos conjuntos apresentados."
   ]
  },
  {
   "cell_type": "code",
   "execution_count": 60,
   "metadata": {},
   "outputs": [
    {
     "data": {
      "text/plain": [
       "{1, 5, 19}"
      ]
     },
     "execution_count": 60,
     "metadata": {},
     "output_type": "execute_result"
    }
   ],
   "source": [
    "set(divisors).intersection(primes)"
   ]
  },
  {
   "cell_type": "markdown",
   "metadata": {},
   "source": [
    "It all looks very nice and perfect, until you realise that 600851475143 is a huge number - it looks like you are dialing a phone number in South Africa. We need to deal with it."
   ]
  },
  {
   "cell_type": "markdown",
   "metadata": {},
   "source": [
    "### Melhorias no algoritmo"
   ]
  },
  {
   "cell_type": "markdown",
   "metadata": {},
   "source": [
    "Devemos encontrar o maior divisor primo de 600851475143, sendo assim a primeira coisa a fazer é melhorar a eficiência deste algoritmo já que o número é gigantesco."
   ]
  },
  {
   "cell_type": "markdown",
   "metadata": {},
   "source": [
    "- A checagem dos divisores pode parar quando o número analisado atinge a metade"
   ]
  },
  {
   "cell_type": "markdown",
   "metadata": {
    "collapsed": true
   },
   "source": [
    "### Using a different approach"
   ]
  },
  {
   "cell_type": "markdown",
   "metadata": {
    "collapsed": true
   },
   "source": [
    "Let's get the divisors of n/2 and then, for each, check if it's a prime number. We can keep on decreasing n as we go. Also, to check if the number is a prime, we do things like \"check if the number is even\" (that would make it not a prime), check if the sum of its algarisms is a multiple of 3 (so it's a multiple of 9) and so on, to make the process of finding if it's a prime a little more simple."
   ]
  },
  {
   "cell_type": "code",
   "execution_count": 58,
   "metadata": {},
   "outputs": [
    {
     "name": "stdout",
     "output_type": "stream",
     "text": [
      "29 \n",
      " 0.0009982585906982422 6597\n"
     ]
    }
   ],
   "source": [
    "import time\n",
    "\n",
    "def new_approach(n):\n",
    "\n",
    "    start = time.time()\n",
    "\n",
    "    # Descobriremos os primos até deste número\n",
    "    middle = int(n/2)\n",
    "    largest = middle\n",
    "\n",
    "    for i in range (middle,1,-1):\n",
    "        # Let's see if i is a divisor of n, starting with half of n (any number above that isn't)\n",
    "        if (n % i == 0):\n",
    "            # i is a divisor, but we still need to check wether it's a prime number\n",
    "            \n",
    "            # Here we can simplify the problem: if n is even, ii will start on an\n",
    "            # odd number. We can set the passo as 2 by 2. (i-1,1,-2)\n",
    "            # Do the same if n is odd, but start the range in (i,1,-2)\n",
    "            \n",
    "            for ii in range (i-1,1,-1):\n",
    "                largest = i # For now, i is winning the challenge\n",
    "                if (i % ii == 0):\n",
    "                    # i is not a prime number\n",
    "                    primo = 0\n",
    "                    break\n",
    "                else:\n",
    "                    # i is a prime number\n",
    "                    primo = 1\n",
    "\n",
    "            if primo == 1:\n",
    "                break\n",
    "\n",
    "    largest = i\n",
    "\n",
    "    elapsed = time.time() - start\n",
    "\n",
    "    print (largest,\"\\n\", elapsed, middle)\n",
    "    \n",
    "    return\n",
    "\n",
    "new_approach(13195)"
   ]
  },
  {
   "cell_type": "code",
   "execution_count": null,
   "metadata": {
    "collapsed": true
   },
   "outputs": [],
   "source": []
  },
  {
   "cell_type": "markdown",
   "metadata": {},
   "source": [
    "https://en.wikipedia.org/wiki/Divisibility_rule#Composite_divisors"
   ]
  },
  {
   "cell_type": "code",
   "execution_count": null,
   "metadata": {
    "collapsed": true
   },
   "outputs": [],
   "source": [
    "import time\n",
    "\n",
    "def new_approach(n):\n",
    "\n",
    "    start = time.time()\n",
    "\n",
    "    # We'll check primes up until this number\n",
    "    middle = int(n/2)\n",
    "    largest = middle\n",
    "    list = [1]\n",
    "\n",
    "    for i in range (middle,2,-1):\n",
    "        # Vamos avaliar se i é divisor do original n, começando pela metade dele\n",
    "        if (n % i == 0):\n",
    "            # i é divisor, precisamos ver se é prime\n",
    "            for ii in range (i-1,2,-1): # Finalizando com o 2 já que obviamente todos são divisíveis por 1\n",
    "                largest = i # Here we can modify the \"check if it's a prime\" part of the algorithm\n",
    "                \n",
    "                if (par):\n",
    "                    prime = 0\n",
    "                    break\n",
    "                \n",
    "                elif (soma dos algarismos % 3 == 0)\n",
    "                    prime = 0\n",
    "                    break\n",
    "\n",
    "                elif (last two digits % 4 == 0)\n",
    "                    prime = 0\n",
    "                    break\n",
    "                \n",
    "                elif (i % ii == 0):\n",
    "                    # i is not a prime\n",
    "                    prime = 0\n",
    "                    break\n",
    "\n",
    "                else:\n",
    "                    # é primo\n",
    "                    primo = 1\n",
    "\n",
    "            if primo == 1:\n",
    "                break\n",
    "\n",
    "    largest = i\n",
    "\n",
    "    elapsed = time.time() - start\n",
    "\n",
    "    print (largest,\"\\n\", elapsed,\"\\n\", list)\n",
    "    \n",
    "    return\n",
    "\n",
    "new_approach(1319574)"
   ]
  }
 ],
 "metadata": {
  "kernelspec": {
   "display_name": "Python 3",
   "language": "python",
   "name": "python3"
  },
  "language_info": {
   "codemirror_mode": {
    "name": "ipython",
    "version": 3
   },
   "file_extension": ".py",
   "mimetype": "text/x-python",
   "name": "python",
   "nbconvert_exporter": "python",
   "pygments_lexer": "ipython3",
   "version": "3.6.1"
  }
 },
 "nbformat": 4,
 "nbformat_minor": 2
}
