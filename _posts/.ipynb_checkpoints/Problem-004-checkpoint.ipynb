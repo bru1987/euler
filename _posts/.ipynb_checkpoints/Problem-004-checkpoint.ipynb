{
 "cells": [
  {
   "cell_type": "markdown",
   "metadata": {
    "collapsed": true
   },
   "source": [
    "## Problem #4"
   ]
  },
  {
   "cell_type": "markdown",
   "metadata": {},
   "source": [
    "..."
   ]
  },
  {
   "cell_type": "markdown",
   "metadata": {},
   "source": [
    "### Solution #1"
   ]
  },
  {
   "cell_type": "markdown",
   "metadata": {},
   "source": [
    "We can use the following algorithm to build a list with all divisors of `n`:"
   ]
  },
  {
   "cell_type": "code",
   "execution_count": 1,
   "metadata": {},
   "outputs": [
    {
     "name": "stdout",
     "output_type": "stream",
     "text": [
      "906609\n",
      "993\n",
      "913\n"
     ]
    }
   ],
   "source": [
    "def check_palindrome(a):\n",
    "    # We need to know how many characters are in the string so we can place a \"pointer\" in the middle\n",
    "    a = str(a)\n",
    "    string_size = len(a)\n",
    "\n",
    "    if string_size % 2 != 0:\n",
    "        stop = int((string_size - 1) / 2)\n",
    "    else:\n",
    "        stop = int(string_size / 2)\n",
    "        \n",
    "    # Checking all numbers\n",
    "    for i in (0,stop,1):\n",
    "        if a[i] != a[-i-1]:\n",
    "            palindrome = False\n",
    "            break\n",
    "        elif i == stop:\n",
    "            palindrome = True\n",
    "\n",
    "    return palindrome\n",
    "\n",
    "list_1 = list(range(1,999))\n",
    "list_2 = list(range(1,999))\n",
    "largest_palindrome_yet = 0\n",
    "\n",
    "for i in range(len(list_1)+1,0,-1):\n",
    "    for ii in range(len(list_1)+1,0,-1):\n",
    "        possible_palindrome = i*ii\n",
    "        # check if the multiplication is larger than the largest_pal_yet\n",
    "        if possible_palindrome > largest_palindrome_yet:\n",
    "            # check if it's a palindrome\n",
    "            palindrome = check_palindrome(possible_palindrome)\n",
    "            if palindrome:\n",
    "                largest_palindrome_yet = possible_palindrome\n",
    "                a=i\n",
    "                b=ii\n",
    "\n",
    "print (largest_palindrome_yet)\n",
    "print (a)\n",
    "print (b)"
   ]
  },
  {
   "cell_type": "code",
   "execution_count": null,
   "metadata": {
    "collapsed": true
   },
   "outputs": [],
   "source": []
  }
 ],
 "metadata": {
  "kernelspec": {
   "display_name": "Python 3",
   "language": "python",
   "name": "python3"
  },
  "language_info": {
   "codemirror_mode": {
    "name": "ipython",
    "version": 3
   },
   "file_extension": ".py",
   "mimetype": "text/x-python",
   "name": "python",
   "nbconvert_exporter": "python",
   "pygments_lexer": "ipython3",
   "version": "3.6.1"
  }
 },
 "nbformat": 4,
 "nbformat_minor": 2
}
