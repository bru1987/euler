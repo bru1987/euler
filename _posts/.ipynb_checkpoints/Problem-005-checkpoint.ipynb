{
 "cells": [
  {
   "cell_type": "markdown",
   "metadata": {
    "collapsed": true
   },
   "source": [
    "## Problem #5"
   ]
  },
  {
   "cell_type": "markdown",
   "metadata": {},
   "source": [
    "..."
   ]
  },
  {
   "cell_type": "markdown",
   "metadata": {},
   "source": [
    "### Solution #1"
   ]
  },
  {
   "cell_type": "markdown",
   "metadata": {},
   "source": [
    "adjust - from primes to factorials"
   ]
  },
  {
   "cell_type": "code",
   "execution_count": 5,
   "metadata": {},
   "outputs": [
    {
     "name": "stdout",
     "output_type": "stream",
     "text": [
      "232792560\n"
     ]
    }
   ],
   "source": [
    "import math\n",
    "\n",
    "# let's setthe floor first\n",
    "def primes_up_to(n):\n",
    "    product = 2\n",
    "\n",
    "    for candidate_for_prime in range (3,n+1):\n",
    "        for i in range (2,candidate_for_prime): \n",
    "            if (candidate_for_prime % i == 0):\n",
    "                break\n",
    "            elif ((candidate_for_prime % i != 0) & (i + 1 == candidate_for_prime)):\n",
    "                product *= candidate_for_prime\n",
    "                \n",
    "    return product\n",
    "    \n",
    "divisible_up_to = 20\n",
    "floor = primes_up_to(divisible_up_to)\n",
    "\n",
    "# the highest we can go is to n! (n factorial)\n",
    "ceiling = math.factorial(divisible_up_to)\n",
    "\n",
    "found = False\n",
    "\n",
    "for ii in range (floor,ceiling):\n",
    "    for i in range(2,divisible_up_to+1):\n",
    "        if ii % i != 0:\n",
    "            break\n",
    "        elif i == divisible_up_to:\n",
    "            print (ii)\n",
    "            found = True\n",
    "            break\n",
    "    \n",
    "    if found:\n",
    "        break\n"
   ]
  }
 ],
 "metadata": {
  "kernelspec": {
   "display_name": "Python 3",
   "language": "python",
   "name": "python3"
  },
  "language_info": {
   "codemirror_mode": {
    "name": "ipython",
    "version": 3
   },
   "file_extension": ".py",
   "mimetype": "text/x-python",
   "name": "python",
   "nbconvert_exporter": "python",
   "pygments_lexer": "ipython3",
   "version": "3.6.1"
  }
 },
 "nbformat": 4,
 "nbformat_minor": 2
}
