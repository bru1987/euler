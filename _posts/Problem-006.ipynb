{
 "cells": [
  {
   "cell_type": "markdown",
   "metadata": {},
   "source": [
    "## Problem #6"
   ]
  },
  {
   "cell_type": "markdown",
   "metadata": {},
   "source": [
    "2520 is the smallest number that can be divided by each of the numbers from 1 to 10 without any remainder.\n",
    "\n",
    "What is the smallest positive number that is **evenly divisible** by all of the numbers from 1 to 20?"
   ]
  },
  {
   "cell_type": "markdown",
   "metadata": {},
   "source": [
    "### Solution #1"
   ]
  },
  {
   "cell_type": "markdown",
   "metadata": {},
   "source": [
    "Let's brute-force it and see what happens. One thing we know: the number we are trying to find **cannot be** smaller than the products of all primes up to $20$. And the reason for that is, the number we are trying to find has to be divisible by $1$ to $20$ and the only way that can be accomplished is if the prime factors (for example $13$) is in that product."
   ]
  },
  {
   "cell_type": "code",
   "execution_count": 1,
   "metadata": {},
   "outputs": [
    {
     "name": "stdout",
     "output_type": "stream",
     "text": [
      "232792560\n",
      "162.78695583343506\n"
     ]
    }
   ],
   "source": [
    "import math\n",
    "import time\n",
    "\n",
    "# let's setle \"floor\" first: the products of all primes from 1 to 20\n",
    "def primes_up_to(n):\n",
    "    product = 2\n",
    "\n",
    "    for candidate_for_prime in range (3,n+1):\n",
    "        for i in range (2,candidate_for_prime): \n",
    "            if (candidate_for_prime % i == 0):\n",
    "                break\n",
    "            elif ((candidate_for_prime % i != 0) & (i + 1 == candidate_for_prime)):\n",
    "                product *= candidate_for_prime\n",
    "                \n",
    "    return product\n",
    "\n",
    "start = time.time()\n",
    "\n",
    "divisible_up_to = 20\n",
    "floor = primes_up_to(divisible_up_to)\n",
    "\n",
    "# the highest we can go is to n! (n factorial)\n",
    "ceiling = math.factorial(divisible_up_to)\n",
    "\n",
    "found = False\n",
    "\n",
    "for ii in range (floor,ceiling):\n",
    "    for i in range(2,divisible_up_to+1):\n",
    "        if ii % i != 0:\n",
    "            break\n",
    "        elif i == divisible_up_to:\n",
    "            print (ii)\n",
    "            elapsed = time.time() - start\n",
    "            print(elapsed)\n",
    "            found = True\n",
    "            break\n",
    "    \n",
    "    if found:\n",
    "        break"
   ]
  },
  {
   "cell_type": "markdown",
   "metadata": {},
   "source": [
    "As you may notice, the running time is extremely high (and it will get higher if we choose a greater `divisible_up_to`). We need to find a more efficient way to tacke this problem."
   ]
  },
  {
   "cell_type": "markdown",
   "metadata": {},
   "source": [
    "### Solution #2 - Greatest power of primes"
   ]
  },
  {
   "cell_type": "markdown",
   "metadata": {},
   "source": [
    "The solution for this problem actually requires **no computation**. And the reason for that is, if we find the prime factorization of each number up to 20 and multiply the greatest power of each, we will find the correct solution."
   ]
  },
  {
   "cell_type": "markdown",
   "metadata": {},
   "source": [
    "$$\n",
    "\\begin{align}\n",
    "2 &= 2^1\\\\\n",
    "3 &= 3^1\\\\\n",
    "4 &= 2^2\\\\\n",
    "5 &= 5^1\\\\\n",
    "\\vdots\\\\\n",
    "18 &= 2^1 \\cdot 3^2\\\\\n",
    "19 &= 19^1\\\\\n",
    "20 &= 2^2 \\cdot 5^1\n",
    "\\end{align}\n",
    "$$"
   ]
  },
  {
   "cell_type": "markdown",
   "metadata": {},
   "source": [
    "We can take advantage of this and build a list with the prime factors and a list with the prime factor's greatest power that shows up from 1 to `divisible_up_to`. After that, we evaluate the first item of the list of primes raised to the first item of the list of powers, multiplied by the second item of the list of primes raised to the second item of the list of powers and so on."
   ]
  },
  {
   "cell_type": "markdown",
   "metadata": {},
   "source": [
    "|LISTS|<td colspan=11>|\n",
    "|----------------|:-:|:-:|:-:|:-:|:-:|:-:|:-:|:-:|:-:|:-:|:-:|\n",
    "| list of primes | [ | 2 | 3 | 5 | 7 | 11| 13| 17| 19| ] |\n",
    "| list of powers | [ |4  | 2 | 1 | 1 | 1 | 1 | 1 | 1 | ] |"
   ]
  },
  {
   "cell_type": "markdown",
   "metadata": {},
   "source": [
    "Answer = $2^4 \\cdot 3^2 \\cdot 5^1 \\cdot 7^1 \\cdot 11^1 \\cdot 13^1 \\cdot 17^1 \\cdot 19^1 = 232792560$"
   ]
  },
  {
   "cell_type": "code",
   "execution_count": 5,
   "metadata": {},
   "outputs": [
    {
     "name": "stdout",
     "output_type": "stream",
     "text": [
      "[1, 2, 3, 5, 7, 11, 13, 17, 19]\n"
     ]
    }
   ],
   "source": [
    "def primes_list(n):\n",
    "    list_of_primes = [1,2]\n",
    "\n",
    "    for i in range (3,n+1):\n",
    "        for ii in range (2,i): \n",
    "            if (i % ii == 0):\n",
    "                break\n",
    "            elif ((i % ii != 0) & (ii + 1 == i)):\n",
    "                list_of_primes.append(i)\n",
    "                \n",
    "    return list_of_primes\n",
    "\n",
    "list_of_primes = primes_list(20)\n",
    "print (list_of_primes)"
   ]
  },
  {
   "cell_type": "markdown",
   "metadata": {},
   "source": [
    "Let's build a new list, with the same number of elements, but now filled with zeros. It will receive the greatest power for each prime:"
   ]
  },
  {
   "cell_type": "code",
   "execution_count": 11,
   "metadata": {},
   "outputs": [
    {
     "name": "stdout",
     "output_type": "stream",
     "text": [
      "[1, 1, 1, 1, 1, 1, 1, 1, 1]\n"
     ]
    }
   ],
   "source": [
    "list_of_powers = [1] * len(list_of_primes)\n",
    "print(list_of_powers)"
   ]
  },
  {
   "cell_type": "markdown",
   "metadata": {},
   "source": [
    "Now we need to check what is the greatest power that shows up, for each of the primes, from 1 to 20."
   ]
  },
  {
   "cell_type": "code",
   "execution_count": 13,
   "metadata": {},
   "outputs": [
    {
     "name": "stdout",
     "output_type": "stream",
     "text": [
      "1\n",
      "2\n",
      "3\n",
      "5\n",
      "7\n",
      "11\n",
      "13\n",
      "17\n",
      "19\n"
     ]
    }
   ],
   "source": [
    "for i in list_of_primes:\n",
    "    print (i)\n",
    "\n",
    "# if it's prime, there's no need to check: the power will be 1\n",
    "# do the prime factorization of all numbers up to 20"
   ]
  },
  {
   "cell_type": "markdown",
   "metadata": {},
   "source": [
    "Placing everything on a single code,"
   ]
  },
  {
   "cell_type": "code",
   "execution_count": null,
   "metadata": {
    "collapsed": true,
    "jupyter": {
     "outputs_hidden": true
    }
   },
   "outputs": [],
   "source": []
  },
  {
   "cell_type": "markdown",
   "metadata": {},
   "source": [
    "The performance of this second algorithm is much better. We can even increase `divisible_up_to` without a substantial compromise on its performance:"
   ]
  },
  {
   "cell_type": "code",
   "execution_count": null,
   "metadata": {
    "collapsed": true,
    "jupyter": {
     "outputs_hidden": true
    }
   },
   "outputs": [],
   "source": []
  }
 ],
 "metadata": {
  "kernelspec": {
   "display_name": "Python 3",
   "language": "python",
   "name": "python3"
  },
  "language_info": {
   "codemirror_mode": {
    "name": "ipython",
    "version": 3
   },
   "file_extension": ".py",
   "mimetype": "text/x-python",
   "name": "python",
   "nbconvert_exporter": "python",
   "pygments_lexer": "ipython3",
   "version": "3.7.6"
  }
 },
 "nbformat": 4,
 "nbformat_minor": 4
}
