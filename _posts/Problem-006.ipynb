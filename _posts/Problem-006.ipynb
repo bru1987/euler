{
 "cells": [
  {
   "cell_type": "markdown",
   "metadata": {},
   "source": [
    "## Problem #6"
   ]
  },
  {
   "cell_type": "markdown",
   "metadata": {},
   "source": [
    "The sum of the squares of the first ten natural numbers is,"
   ]
  },
  {
   "cell_type": "markdown",
   "metadata": {},
   "source": [
    "$$1^2 + 2^2 + \\cdots + 10^2 = 385$$"
   ]
  },
  {
   "cell_type": "markdown",
   "metadata": {},
   "source": [
    "The square of the sum of the first ten natural numbers is,"
   ]
  },
  {
   "cell_type": "markdown",
   "metadata": {},
   "source": [
    "$$\\left( 1 + 2 + \\cdots + 10 \\right) = 55^2 = 3025$$"
   ]
  },
  {
   "cell_type": "markdown",
   "metadata": {},
   "source": [
    "Hence the difference between the sum of the squares of the first ten natural numbers and the square of the sum is $3025 - 385 = 2640$"
   ]
  },
  {
   "cell_type": "markdown",
   "metadata": {},
   "source": [
    "Find the difference between the sum of the squares of the first one hundred natural numbers and the square of the sum."
   ]
  },
  {
   "cell_type": "markdown",
   "metadata": {},
   "source": [
    "### Solution #1"
   ]
  },
  {
   "cell_type": "markdown",
   "metadata": {},
   "source": [
    "Let's run throug the numbers 1 to 100 adding all integers and, at the same time, adding all squares. In the end, we'll take the sum of all integers and square it, in order to compera to the sum of the squared integers."
   ]
  },
  {
   "cell_type": "code",
   "execution_count": 73,
   "metadata": {},
   "outputs": [
    {
     "name": "stdout",
     "output_type": "stream",
     "text": [
      "250500250000\n",
      "333833500\n"
     ]
    }
   ],
   "source": [
    "sum_of_integers = 0\n",
    "sum_of_squares = 0\n",
    "n = 1000\n",
    "\n",
    "for i in range(1, n+1):\n",
    "    sum_of_integers += i\n",
    "    sum_of_squares += i**2\n",
    "    \n",
    "print (sum_of_integers**2)\n",
    "print(sum_of_squares)"
   ]
  },
  {
   "cell_type": "markdown",
   "metadata": {},
   "source": [
    "The difference can be found, well, by subtracting one number by the other:"
   ]
  },
  {
   "cell_type": "code",
   "execution_count": 74,
   "metadata": {},
   "outputs": [
    {
     "name": "stdout",
     "output_type": "stream",
     "text": [
      "250166416500\n"
     ]
    }
   ],
   "source": [
    "print (sum_of_integers**2 - sum_of_squares)"
   ]
  },
  {
   "cell_type": "markdown",
   "metadata": {},
   "source": [
    "### Solution #2"
   ]
  },
  {
   "cell_type": "markdown",
   "metadata": {},
   "source": [
    "There are a few strategies that one can use to address this problem a little better. Analysing the sum of the integers, which later gets squared, we can use the formula for the sum of an arithmetic series:"
   ]
  },
  {
   "cell_type": "markdown",
   "metadata": {},
   "source": [
    "$$\\displaystyle S = \\frac{n \\cdot \\left[ 2 \\cdot u_1 + (n-1)  \\cdot d \\right]}{2}$$"
   ]
  },
  {
   "cell_type": "markdown",
   "metadata": {},
   "source": [
    "The sum of the first n integers can be calculated by the following function:"
   ]
  },
  {
   "cell_type": "code",
   "execution_count": 75,
   "metadata": {},
   "outputs": [
    {
     "name": "stdout",
     "output_type": "stream",
     "text": [
      "500500.0\n"
     ]
    },
    {
     "data": {
      "text/plain": [
       "250500250000.0"
      ]
     },
     "execution_count": 75,
     "metadata": {},
     "output_type": "execute_result"
    }
   ],
   "source": [
    "def sum_first_n_integers(n):\n",
    "    sum = (n*(2*1 + (n-1)*1))/(2)\n",
    "    print(sum)\n",
    "    return sum**2\n",
    "    \n",
    "sum_first_n_integers(n)"
   ]
  },
  {
   "cell_type": "markdown",
   "metadata": {},
   "source": [
    "Also, we can calculate the sum of the first n integers **squared** by using...COLOCAR AQUI A DEDUÇÃO"
   ]
  },
  {
   "cell_type": "markdown",
   "metadata": {},
   "source": [
    "https://brilliant.org/wiki/sum-of-n-n2-or-n3/#"
   ]
  },
  {
   "cell_type": "code",
   "execution_count": 76,
   "metadata": {},
   "outputs": [
    {
     "name": "stdout",
     "output_type": "stream",
     "text": [
      "333833500.0\n"
     ]
    },
    {
     "data": {
      "text/plain": [
       "333833500.0"
      ]
     },
     "execution_count": 76,
     "metadata": {},
     "output_type": "execute_result"
    }
   ],
   "source": [
    "def sum_first_n_integers_squared(n):\n",
    "    sum = n*(n+1)*(2*n+1)/6\n",
    "    print(sum)\n",
    "    return sum\n",
    "    \n",
    "sum_first_n_integers_squared(n)"
   ]
  },
  {
   "cell_type": "markdown",
   "metadata": {},
   "source": [
    "The difference is therefore"
   ]
  },
  {
   "cell_type": "code",
   "execution_count": 77,
   "metadata": {},
   "outputs": [
    {
     "name": "stdout",
     "output_type": "stream",
     "text": [
      "333833500.0\n",
      "500500.0\n",
      "-250166416500.0\n"
     ]
    }
   ],
   "source": [
    "print(sum_first_n_integers_squared(n) - sum_first_n_integers(n))"
   ]
  },
  {
   "cell_type": "code",
   "execution_count": null,
   "metadata": {},
   "outputs": [],
   "source": []
  }
 ],
 "metadata": {
  "kernelspec": {
   "display_name": "Python 3",
   "language": "python",
   "name": "python3"
  },
  "language_info": {
   "codemirror_mode": {
    "name": "ipython",
    "version": 3
   },
   "file_extension": ".py",
   "mimetype": "text/x-python",
   "name": "python",
   "nbconvert_exporter": "python",
   "pygments_lexer": "ipython3",
   "version": "3.7.6"
  }
 },
 "nbformat": 4,
 "nbformat_minor": 4
}
