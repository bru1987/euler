{
 "cells": [
  {
   "cell_type": "markdown",
   "metadata": {},
   "source": [
    "Sum of the first n primes"
   ]
  },
  {
   "cell_type": "code",
   "execution_count": 1,
   "metadata": {},
   "outputs": [],
   "source": [
    "# Function that adds the first n primes\n",
    "def primes_sum(n):\n",
    "    # We'll start with the values 2 and 3 already inserted on the sum\n",
    "    summation = 2\n",
    "    candidate = 3 # current possible prime being analysed\n",
    "    print ('candidate = 2')\n",
    "    summation += candidate\n",
    "    print('summation = 2')\n",
    "    x = 1\n",
    "    \n",
    "    while x < n:\n",
    "        for divisor in range (2,(round(candidate**0.5)+1)):\n",
    "            if (candidate % divisor == 0):\n",
    "                candidate += 1\n",
    "                break\n",
    "            elif ((candidate % divisor != 0) & (divisor + 1 == (round(candidate**0.5)+1))):\n",
    "                print ('candidate = ',candidate)\n",
    "                summation += candidate\n",
    "                print('summation = ',summation)\n",
    "                candidate += 1\n",
    "                x += 1\n",
    "                \n",
    "    return summation"
   ]
  },
  {
   "cell_type": "code",
   "execution_count": null,
   "metadata": {},
   "outputs": [],
   "source": []
  }
 ],
 "metadata": {
  "kernelspec": {
   "display_name": "Python 3",
   "language": "python",
   "name": "python3"
  },
  "language_info": {
   "codemirror_mode": {
    "name": "ipython",
    "version": 3
   },
   "file_extension": ".py",
   "mimetype": "text/x-python",
   "name": "python",
   "nbconvert_exporter": "python",
   "pygments_lexer": "ipython3",
   "version": "3.7.6"
  }
 },
 "nbformat": 4,
 "nbformat_minor": 4
}
