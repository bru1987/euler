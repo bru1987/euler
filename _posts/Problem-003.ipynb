{
 "cells": [
  {
   "cell_type": "markdown",
   "metadata": {
    "collapsed": true
   },
   "source": [
    "## Problem #3"
   ]
  },
  {
   "cell_type": "markdown",
   "metadata": {},
   "source": [
    "The prime factors of 13195 are 5, 7, 13 and 29. What is the largest prime factor of the number 600851475143?"
   ]
  },
  {
   "cell_type": "markdown",
   "metadata": {},
   "source": [
    "### Solution #1"
   ]
  },
  {
   "cell_type": "markdown",
   "metadata": {},
   "source": [
    "We can use the following algorithm to build a list with all divisors of `n`:"
   ]
  },
  {
   "cell_type": "code",
   "execution_count": 1,
   "metadata": {},
   "outputs": [
    {
     "ename": "NameError",
     "evalue": "name 'divisors' is not defined",
     "output_type": "error",
     "traceback": [
      "\u001b[0;31m---------------------------------------------------------------------------\u001b[0m",
      "\u001b[0;31mNameError\u001b[0m                                 Traceback (most recent call last)",
      "\u001b[0;32m<ipython-input-1-dc0b293f1b53>\u001b[0m in \u001b[0;36m<module>\u001b[0;34m()\u001b[0m\n\u001b[1;32m     20\u001b[0m \u001b[0;34m\u001b[0m\u001b[0m\n\u001b[1;32m     21\u001b[0m \u001b[0;31m# Let´s test if the algorithm is working properly\u001b[0m\u001b[0;34m\u001b[0m\u001b[0;34m\u001b[0m\u001b[0m\n\u001b[0;32m---> 22\u001b[0;31m \u001b[0mprint\u001b[0m \u001b[0;34m(\u001b[0m\u001b[0mdivisors\u001b[0m\u001b[0;34m,\u001b[0m\u001b[0;34m\"\\n\"\u001b[0m\u001b[0;34m,\u001b[0m \u001b[0melapsed\u001b[0m\u001b[0;34m)\u001b[0m\u001b[0;34m\u001b[0m\u001b[0m\n\u001b[0m\u001b[1;32m     23\u001b[0m \u001b[0mdivisors\u001b[0m \u001b[0;34m=\u001b[0m \u001b[0mdivisors_1\u001b[0m\u001b[0;34m(\u001b[0m\u001b[0;36m95\u001b[0m\u001b[0;34m)\u001b[0m\u001b[0;34m\u001b[0m\u001b[0m\n",
      "\u001b[0;31mNameError\u001b[0m: name 'divisors' is not defined"
     ]
    }
   ],
   "source": [
    "import time\n",
    "\n",
    "def divisors_1(n):\n",
    "\n",
    "    start = time.time()\n",
    "\n",
    "    # The number 1, obviously, will always be a divisor, so let's\n",
    "    # initiate the list with it\n",
    "    divisors = [1]\n",
    "\n",
    "    for i in range (2,n+1): # Começando com o 2 já que obviamente todos são divisíveis por 1\n",
    "        if n % i == 0:\n",
    "            divisors.append(i)\n",
    "\n",
    "    elapsed = time.time() - start\n",
    "\n",
    "    #print (divisors,\"\\n\", elapsed)\n",
    "    \n",
    "    return divisors\n",
    "\n",
    "# Let´s test if the algorithm is working properly\n",
    "print (divisors,\"\\n\", elapsed)\n",
    "divisors = divisors_1(95)"
   ]
  },
  {
   "cell_type": "markdown",
   "metadata": {},
   "source": [
    "Ok, it's all good. Now let's build a short code that evaluates all prime numbers from 1 to `n`:"
   ]
  },
  {
   "cell_type": "code",
   "execution_count": null,
   "metadata": {},
   "outputs": [],
   "source": [
    "import time\n",
    "\n",
    "def primes_1(n):\n",
    "\n",
    "    start = time.time()\n",
    "\n",
    "    # The number 1 is a prime number. Therefore, we shall start the list with it.\n",
    "    primes = [1,2]\n",
    "\n",
    "    for candidate_for_prime in range (3,n+1):\n",
    "        # Let's evaluate all primes up till n\n",
    "        # since all primes are odd, we can save some computing time\n",
    "        # by using 2 as step and starting with 3\n",
    "        \n",
    "        for i in range (3,candidate_for_prime): \n",
    "            if (candidate_for_prime % i == 0):\n",
    "                break\n",
    "            elif ((candidate_for_prime % i != 0) & (i + 1 == candidate_for_prime)):\n",
    "                primes.append(candidate_for_prime)\n",
    "\n",
    "    elapsed = time.time() - start\n",
    "\n",
    "    #print (primes,\"\\n\", elapsed)\n",
    "    \n",
    "    return primes\n",
    "\n",
    "print (primes,\"\\n\", elapsed)\n",
    "primes = primes_1(95)"
   ]
  },
  {
   "cell_type": "markdown",
   "metadata": {
    "collapsed": true
   },
   "source": [
    "We now have built two important blocks of code. Let'sdo a little test to find the intersection of the two sets above:"
   ]
  },
  {
   "cell_type": "code",
   "execution_count": null,
   "metadata": {},
   "outputs": [],
   "source": [
    "set(divisors).intersection(primes)"
   ]
  },
  {
   "cell_type": "markdown",
   "metadata": {},
   "source": [
    "It all looks very nice and perfect, until you realise that 600851475143 is a huge number - it looks like you are dialing a phone number in South Africa. We need to deal with it. Are we really going to have a problem with this huge number? Let's test it with a pretty-big-but-not-huge number:"
   ]
  },
  {
   "cell_type": "code",
   "execution_count": null,
   "metadata": {},
   "outputs": [],
   "source": [
    "import time\n",
    "\n",
    "start = time.time()\n",
    "\n",
    "divisors = divisors_1(32395)\n",
    "primes = primes_1(32395)\n",
    "\n",
    "print (set(divisors).intersection(primes))\n",
    "\n",
    "elapsed = time.time() - start\n",
    "\n",
    "print (elapsed)"
   ]
  },
  {
   "cell_type": "markdown",
   "metadata": {},
   "source": [
    "Yes we will have an issue with this."
   ]
  },
  {
   "cell_type": "markdown",
   "metadata": {},
   "source": [
    "### Melhorias no algoritmo"
   ]
  },
  {
   "cell_type": "markdown",
   "metadata": {},
   "source": [
    "### Trial Division"
   ]
  },
  {
   "cell_type": "code",
   "execution_count": 2,
   "metadata": {},
   "outputs": [
    {
     "name": "stdout",
     "output_type": "stream",
     "text": [
      "[71, 839, 1471, 6857, 59569, 104441, 486847, 1234169, 5753023, 10086647, 87625999, 408464633, 716151937, 8462696833]\n"
     ]
    }
   ],
   "source": [
    "from math import sqrt\n",
    "import time\n",
    "\n",
    "def trial_division(n):\n",
    "    factors = []\n",
    "    for i in range (2,int(sqrt(n))):\n",
    "        if n % i == 0:\n",
    "            factors.append(i)\n",
    "            factors.append(int(n/i))\n",
    "    return factors\n",
    "\n",
    "start = time.time()\n",
    "\n",
    "factors = trial_division(600851475143)\n",
    "factors.sort()\n",
    "print (factors)\n",
    "              \n",
    "elapsed = time.time() - start"
   ]
  },
  {
   "cell_type": "markdown",
   "metadata": {},
   "source": [
    "We still need to check if they are primes. If they are divisible by each other, they must be eliminated."
   ]
  },
  {
   "cell_type": "code",
   "execution_count": null,
   "metadata": {
    "collapsed": true
   },
   "outputs": [],
   "source": [
    "from math import sqrt\n",
    "import time\n",
    "\n",
    "def trial_division_primes(n):\n",
    "    factors = []\n",
    "    for i in range (2,int(sqrt(n))):\n",
    "        if n % i == 0:\n",
    "            factors.append(i)\n",
    "            factors.append(int(n/i))\n",
    "            \n",
    "    prime_factors = []    \n",
    "    \n",
    "    for i in range (len(factors),2,-1):\n",
    "        a = len(factors) - 1\n",
    "        for ii in range (a,0,-1):\n",
    "            if i % ii == 0:\n",
    "                # remover elemento\n",
    "            a = a - 1\n",
    "    \n",
    "    return prime_factors\n",
    "\n",
    "start = time.time()\n",
    "\n",
    "prime_factors = trial_division_primes(600851475143)\n",
    "prime_factors.sort()\n",
    "print (prime_factors)\n",
    "              \n",
    "elapsed = time.time() - start"
   ]
  },
  {
   "cell_type": "code",
   "execution_count": null,
   "metadata": {
    "collapsed": true
   },
   "outputs": [],
   "source": [
    "Drop the mic."
   ]
  },
  {
   "cell_type": "code",
   "execution_count": null,
   "metadata": {},
   "outputs": [],
   "source": [
    "from math import sqrt\n",
    "\n",
    "primes = set([2])\n",
    "value = 3\n",
    "number = 600851475143\n",
    "\n",
    "while value < sqrt(number):\n",
    "    isPrime = True\n",
    "    for k in primes:\n",
    "        if value % k == 0:\n",
    "            isPrime = False\n",
    "            value += 2\n",
    "    if isPrime:\n",
    "        primes.add(value)\n",
    "        if number % value == 0:\n",
    "            print (value)\n",
    "            number /= value\n",
    "print (number)"
   ]
  },
  {
   "cell_type": "markdown",
   "metadata": {},
   "source": [
    "Devemos encontrar o maior divisor primo de 600851475143, sendo assim a primeira coisa a fazer é melhorar a eficiência deste algoritmo já que o número é gigantesco."
   ]
  }
 ],
 "metadata": {
  "kernelspec": {
   "display_name": "Python 3",
   "language": "python",
   "name": "python3"
  },
  "language_info": {
   "codemirror_mode": {
    "name": "ipython",
    "version": 3
   },
   "file_extension": ".py",
   "mimetype": "text/x-python",
   "name": "python",
   "nbconvert_exporter": "python",
   "pygments_lexer": "ipython3",
   "version": "3.6.1"
  }
 },
 "nbformat": 4,
 "nbformat_minor": 2
}
