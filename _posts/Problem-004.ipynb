{
 "cells": [
  {
   "cell_type": "markdown",
   "metadata": {},
   "source": [
    "---\n",
    "layout: post\n",
    "title: Project Euler - Problem 4\n",
    "post-order: 004\n",
    "---"
   ]
  },
  {
   "cell_type": "markdown",
   "metadata": {},
   "source": [
    "## Problem #4"
   ]
  },
  {
   "cell_type": "markdown",
   "metadata": {},
   "source": [
    "A palindromic number reads the same both ways. The largest palindrome made from the product of two 2-digit numbers is $9009 = 91 \\cdot 99$.\n",
    "\n",
    "Find the largest palindrome made from the product of two 3-digit numbers."
   ]
  },
  {
   "cell_type": "markdown",
   "metadata": {},
   "source": [
    "### Solution #1"
   ]
  },
  {
   "cell_type": "markdown",
   "metadata": {},
   "source": [
    "For this specific problem brute-forcing works like a charm. In the following code, the function ´check_palindrome()´ makes sure that the product we get is a palindrome."
   ]
  },
  {
   "cell_type": "code",
   "execution_count": 18,
   "metadata": {},
   "outputs": [
    {
     "name": "stdout",
     "output_type": "stream",
     "text": [
      "The largest palindrome we can build is  906609  , which is the product of  993  and  913\n"
     ]
    }
   ],
   "source": [
    "def check_palindrome(a):\n",
    "    # We need to know how many characters are in the number so let's first convert it to a string\n",
    "    a = str(a)\n",
    "    # evaluating it's size\n",
    "    string_size = len(a)\n",
    "    # at first, let's assume it's not a palindrome\n",
    "    palindrome = False\n",
    "\n",
    "    if string_size % 2 != 0:\n",
    "        stop = int((string_size - 1) / 2)\n",
    "    else:\n",
    "        stop = int(string_size / 2)\n",
    "        \n",
    "    # Checking all numbers\n",
    "    for i in range(0,stop+1):\n",
    "        if a[i] != a[-i-1]:\n",
    "            palindrome = False\n",
    "            break\n",
    "        elif i == stop:\n",
    "            palindrome = True\n",
    "\n",
    "    return palindrome\n",
    "\n",
    "numbers_to_use = list(range(1,999))\n",
    "largest_palindrome_yet = 0\n",
    "\n",
    "# here the loops check the product and, if is is bigger than the number we currently have, \n",
    "# it checks if it's a palindrome\n",
    "for i in range(len(numbers_to_use)+1,0,-1):\n",
    "    for ii in range(len(numbers_to_use)+1,0,-1):\n",
    "        possible_palindrome = i*ii\n",
    "        # check if the multiplication is larger than the largest_pal_yet\n",
    "        if possible_palindrome > largest_palindrome_yet:\n",
    "            # check if it's a palindrome\n",
    "            palindrome = check_palindrome(possible_palindrome)\n",
    "            if palindrome:\n",
    "                largest_palindrome_yet = possible_palindrome\n",
    "                a=i\n",
    "                b=ii\n",
    "\n",
    "print (\"The largest palindrome we can build is \",largest_palindrome_yet,\" , which is the product of \", a, \" and \", b)"
   ]
  }
 ],
 "metadata": {
  "kernelspec": {
   "display_name": "Python 3",
   "language": "python",
   "name": "python3"
  },
  "language_info": {
   "codemirror_mode": {
    "name": "ipython",
    "version": 3
   },
   "file_extension": ".py",
   "mimetype": "text/x-python",
   "name": "python",
   "nbconvert_exporter": "python",
   "pygments_lexer": "ipython3",
   "version": "3.7.6"
  }
 },
 "nbformat": 4,
 "nbformat_minor": 4
}
